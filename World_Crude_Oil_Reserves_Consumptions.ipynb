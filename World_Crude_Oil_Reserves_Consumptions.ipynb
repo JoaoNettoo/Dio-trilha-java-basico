{
  "metadata": {
    "kernelspec": {
      "language": "python",
      "display_name": "Python 3",
      "name": "python3"
    },
    "language_info": {
      "name": "python",
      "version": "3.10.13",
      "mimetype": "text/x-python",
      "codemirror_mode": {
        "name": "ipython",
        "version": 3
      },
      "pygments_lexer": "ipython3",
      "nbconvert_exporter": "python",
      "file_extension": ".py"
    },
    "kaggle": {
      "accelerator": "none",
      "dataSources": [
        {
          "sourceId": 8835796,
          "sourceType": "datasetVersion",
          "datasetId": 5317141
        }
      ],
      "dockerImageVersionId": 30746,
      "isInternetEnabled": true,
      "language": "python",
      "sourceType": "notebook",
      "isGpuEnabled": false
    },
    "colab": {
      "name": "World Crude Oil Reserves/Consumptions",
      "provenance": [],
      "toc_visible": true,
      "include_colab_link": true
    }
  },
  "nbformat_minor": 0,
  "nbformat": 4,
  "cells": [
    {
      "cell_type": "markdown",
      "metadata": {
        "id": "view-in-github",
        "colab_type": "text"
      },
      "source": [
        "<a href=\"https://colab.research.google.com/github/JoaoNettoo/Dio-trilha-java-basico/blob/main/World_Crude_Oil_Reserves_Consumptions.ipynb\" target=\"_parent\"><img src=\"https://colab.research.google.com/assets/colab-badge.svg\" alt=\"Open In Colab\"/></a>"
      ]
    },
    {
      "source": [
        "\n",
        "# IMPORTANT: RUN THIS CELL IN ORDER TO IMPORT YOUR KAGGLE DATA SOURCES\n",
        "# TO THE CORRECT LOCATION (/kaggle/input) IN YOUR NOTEBOOK,\n",
        "# THEN FEEL FREE TO DELETE THIS CELL.\n",
        "# NOTE: THIS NOTEBOOK ENVIRONMENT DIFFERS FROM KAGGLE'S PYTHON\n",
        "# ENVIRONMENT SO THERE MAY BE MISSING LIBRARIES USED BY YOUR\n",
        "# NOTEBOOK.\n",
        "\n",
        "import os\n",
        "import sys\n",
        "from tempfile import NamedTemporaryFile\n",
        "from urllib.request import urlopen\n",
        "from urllib.parse import unquote, urlparse\n",
        "from urllib.error import HTTPError\n",
        "from zipfile import ZipFile\n",
        "import tarfile\n",
        "import shutil\n",
        "\n",
        "CHUNK_SIZE = 40960\n",
        "DATA_SOURCE_MAPPING = 'oil-reserves-and-consumption-from-1995-to-2022:https%3A%2F%2Fstorage.googleapis.com%2Fkaggle-data-sets%2F5317141%2F8835796%2Fbundle%2Farchive.zip%3FX-Goog-Algorithm%3DGOOG4-RSA-SHA256%26X-Goog-Credential%3Dgcp-kaggle-com%2540kaggle-161607.iam.gserviceaccount.com%252F20240802%252Fauto%252Fstorage%252Fgoog4_request%26X-Goog-Date%3D20240802T212236Z%26X-Goog-Expires%3D259200%26X-Goog-SignedHeaders%3Dhost%26X-Goog-Signature%3D62045c6bbe477c2f674222ecc2098445ab3f1b5197ca9bad92de244ef63ff346cece300a59b58e351a6ef85088ad33ba688fdd4b993366bcb32f3e53adfdaa995bbaa950e9743c4d4b24684b61acb6c34725425ca6d64afbef28943adb0db8198d90bbbd8c36bfe8a3efedd0c21aad526e7be25eadb67e26fdb5e3bcc3ac952fc501b8d6095126eadf6d8f370fa58a78e33f3802a3ab68e44d8267a86b8473135fb12aba5537b305eb8c2c628b6c64a0c7a46c069720b91e99b26cb0a1fb698cfbc89eceeeef4e633a4990eb8fb4feeb093e91a341c4793d36621fc1beb76371f242dc92a383a33a355e97ee3c1122e0b8d794c92f93fb05c2a03046669275ca'\n",
        "\n",
        "KAGGLE_INPUT_PATH='/kaggle/input'\n",
        "KAGGLE_WORKING_PATH='/kaggle/working'\n",
        "KAGGLE_SYMLINK='kaggle'\n",
        "\n",
        "!umount /kaggle/input/ 2> /dev/null\n",
        "shutil.rmtree('/kaggle/input', ignore_errors=True)\n",
        "os.makedirs(KAGGLE_INPUT_PATH, 0o777, exist_ok=True)\n",
        "os.makedirs(KAGGLE_WORKING_PATH, 0o777, exist_ok=True)\n",
        "\n",
        "try:\n",
        "  os.symlink(KAGGLE_INPUT_PATH, os.path.join(\"..\", 'input'), target_is_directory=True)\n",
        "except FileExistsError:\n",
        "  pass\n",
        "try:\n",
        "  os.symlink(KAGGLE_WORKING_PATH, os.path.join(\"..\", 'working'), target_is_directory=True)\n",
        "except FileExistsError:\n",
        "  pass\n",
        "\n",
        "for data_source_mapping in DATA_SOURCE_MAPPING.split(','):\n",
        "    directory, download_url_encoded = data_source_mapping.split(':')\n",
        "    download_url = unquote(download_url_encoded)\n",
        "    filename = urlparse(download_url).path\n",
        "    destination_path = os.path.join(KAGGLE_INPUT_PATH, directory)\n",
        "    try:\n",
        "        with urlopen(download_url) as fileres, NamedTemporaryFile() as tfile:\n",
        "            total_length = fileres.headers['content-length']\n",
        "            print(f'Downloading {directory}, {total_length} bytes compressed')\n",
        "            dl = 0\n",
        "            data = fileres.read(CHUNK_SIZE)\n",
        "            while len(data) > 0:\n",
        "                dl += len(data)\n",
        "                tfile.write(data)\n",
        "                done = int(50 * dl / int(total_length))\n",
        "                sys.stdout.write(f\"\\r[{'=' * done}{' ' * (50-done)}] {dl} bytes downloaded\")\n",
        "                sys.stdout.flush()\n",
        "                data = fileres.read(CHUNK_SIZE)\n",
        "            if filename.endswith('.zip'):\n",
        "              with ZipFile(tfile) as zfile:\n",
        "                zfile.extractall(destination_path)\n",
        "            else:\n",
        "              with tarfile.open(tfile.name) as tarfile:\n",
        "                tarfile.extractall(destination_path)\n",
        "            print(f'\\nDownloaded and uncompressed: {directory}')\n",
        "    except HTTPError as e:\n",
        "        print(f'Failed to load (likely expired) {download_url} to path {destination_path}')\n",
        "        continue\n",
        "    except OSError as e:\n",
        "        print(f'Failed to load {download_url} to path {destination_path}')\n",
        "        continue\n",
        "\n",
        "print('Data source import complete.')\n"
      ],
      "metadata": {
        "id": "pGsApKuT-SyA"
      },
      "cell_type": "code",
      "outputs": [],
      "execution_count": null
    },
    {
      "cell_type": "markdown",
      "source": [
        "# World Crude Oil Reserves/Consumptions"
      ],
      "metadata": {
        "id": "oDkE1N60-SyK"
      }
    },
    {
      "cell_type": "code",
      "source": [
        "import pandas as pd\n",
        "import matplotlib.pyplot as plt\n",
        "import seaborn as sns"
      ],
      "metadata": {
        "execution": {
          "iopub.status.busy": "2024-07-16T14:21:18.194416Z",
          "iopub.execute_input": "2024-07-16T14:21:18.195097Z",
          "iopub.status.idle": "2024-07-16T14:21:18.199761Z",
          "shell.execute_reply.started": "2024-07-16T14:21:18.195064Z",
          "shell.execute_reply": "2024-07-16T14:21:18.198627Z"
        },
        "trusted": true,
        "id": "n5uqmcQP-SyP"
      },
      "execution_count": null,
      "outputs": []
    },
    {
      "cell_type": "markdown",
      "source": [
        "## World Crude Oil Reserves by Country"
      ],
      "metadata": {
        "id": "-FYHcgoe-SyQ"
      }
    },
    {
      "cell_type": "code",
      "source": [
        "df0=pd.read_csv('/kaggle/input/oil-reserves-and-consumption-from-1995-to-2022/World Crude Oil Reserves from 1995 to 2021.csv')\n",
        "display(df0[0:5])\n",
        "df0.index=df0.iloc[:,0]\n",
        "\n",
        "df=df0.T[1:]\n",
        "display(df[0:5])"
      ],
      "metadata": {
        "execution": {
          "iopub.status.busy": "2024-07-16T14:21:18.224799Z",
          "iopub.execute_input": "2024-07-16T14:21:18.225431Z",
          "iopub.status.idle": "2024-07-16T14:21:18.273351Z",
          "shell.execute_reply.started": "2024-07-16T14:21:18.225399Z",
          "shell.execute_reply": "2024-07-16T14:21:18.272268Z"
        },
        "trusted": true,
        "id": "03vuhDx1-SyQ"
      },
      "execution_count": null,
      "outputs": []
    },
    {
      "cell_type": "code",
      "source": [
        "drop_cols=[]\n",
        "for j,col in enumerate(df.columns):\n",
        "    if df.iloc[-1,j]==0:\n",
        "        drop_cols+=[j]\n",
        "#print(drop_cols)\n",
        "df=df.drop(df.columns[drop_cols], axis=1)\n",
        "display(df[0:5])"
      ],
      "metadata": {
        "execution": {
          "iopub.status.busy": "2024-07-16T14:21:18.275151Z",
          "iopub.execute_input": "2024-07-16T14:21:18.275466Z",
          "iopub.status.idle": "2024-07-16T14:21:18.305238Z",
          "shell.execute_reply.started": "2024-07-16T14:21:18.27544Z",
          "shell.execute_reply": "2024-07-16T14:21:18.304164Z"
        },
        "trusted": true,
        "id": "5Pgq7qqr-SyR"
      },
      "execution_count": null,
      "outputs": []
    },
    {
      "cell_type": "code",
      "source": [
        "df2=df.iloc[-1:,0:-1].T\n",
        "df2=df2.sort_values('2021',ascending=False)\n",
        "nations=df2.index.tolist()\n",
        "print(nations)"
      ],
      "metadata": {
        "execution": {
          "iopub.status.busy": "2024-07-16T14:28:57.543146Z",
          "iopub.execute_input": "2024-07-16T14:28:57.543883Z",
          "iopub.status.idle": "2024-07-16T14:28:57.655547Z",
          "shell.execute_reply.started": "2024-07-16T14:28:57.543832Z",
          "shell.execute_reply": "2024-07-16T14:28:57.65424Z"
        },
        "trusted": true,
        "id": "xY1uz2in-SyS"
      },
      "execution_count": null,
      "outputs": []
    },
    {
      "cell_type": "code",
      "source": [
        "plt.figure(figsize=(12,6))\n",
        "for column in nations[0:20]:\n",
        "    plt.plot(df.index, df[column].astype(float), label=column)\n",
        "plt.xlabel('Year')\n",
        "plt.ylabel('TWh')\n",
        "plt.title('Oil Reserves Top 20')\n",
        "plt.legend()\n",
        "plt.legend(bbox_to_anchor=(1.05, 1), loc='upper left', borderaxespad=0.)\n",
        "plt.xticks(rotation='vertical')\n",
        "plt.grid(True)\n",
        "plt.show()"
      ],
      "metadata": {
        "execution": {
          "iopub.status.busy": "2024-07-16T14:21:18.317449Z",
          "iopub.execute_input": "2024-07-16T14:21:18.317793Z",
          "iopub.status.idle": "2024-07-16T14:21:18.910043Z",
          "shell.execute_reply.started": "2024-07-16T14:21:18.317768Z",
          "shell.execute_reply": "2024-07-16T14:21:18.908951Z"
        },
        "trusted": true,
        "id": "oue9F6Fw-SyT"
      },
      "execution_count": null,
      "outputs": []
    },
    {
      "cell_type": "markdown",
      "source": [
        "## Oil Consumption by Country"
      ],
      "metadata": {
        "id": "Myo2dH4g-SyU"
      }
    },
    {
      "cell_type": "code",
      "source": [
        "df0=pd.read_csv('/kaggle/input/oil-reserves-and-consumption-from-1995-to-2022/Oil Consumption by Country 1965 to 2023.csv')\n",
        "display(df0[0:5])\n",
        "df0.index=df0.iloc[:,0]\n",
        "\n",
        "df=df0.T[1:]\n",
        "display(df[0:5])"
      ],
      "metadata": {
        "execution": {
          "iopub.status.busy": "2024-07-16T14:21:18.911539Z",
          "iopub.execute_input": "2024-07-16T14:21:18.912547Z",
          "iopub.status.idle": "2024-07-16T14:21:18.959393Z",
          "shell.execute_reply.started": "2024-07-16T14:21:18.912508Z",
          "shell.execute_reply": "2024-07-16T14:21:18.95838Z"
        },
        "trusted": true,
        "id": "WzjJwpi2-SyV"
      },
      "execution_count": null,
      "outputs": []
    },
    {
      "cell_type": "code",
      "source": [
        "print(df0['Entity'].tolist())"
      ],
      "metadata": {
        "execution": {
          "iopub.status.busy": "2024-07-16T14:21:18.960719Z",
          "iopub.execute_input": "2024-07-16T14:21:18.961043Z",
          "iopub.status.idle": "2024-07-16T14:21:18.966343Z",
          "shell.execute_reply.started": "2024-07-16T14:21:18.961017Z",
          "shell.execute_reply": "2024-07-16T14:21:18.965212Z"
        },
        "trusted": true,
        "id": "BmOkseB6-SyW"
      },
      "execution_count": null,
      "outputs": []
    },
    {
      "cell_type": "code",
      "source": [
        "drop_cols=[]\n",
        "for j,col in enumerate(df.columns):\n",
        "    if df.iloc[-1,j]==0:\n",
        "        drop_cols+=[j]\n",
        "#print(drop_cols)\n",
        "df=df.drop(df.columns[drop_cols], axis=1)\n",
        "display(df[0:5])"
      ],
      "metadata": {
        "execution": {
          "iopub.status.busy": "2024-07-16T14:21:18.967588Z",
          "iopub.execute_input": "2024-07-16T14:21:18.967941Z",
          "iopub.status.idle": "2024-07-16T14:21:18.997022Z",
          "shell.execute_reply.started": "2024-07-16T14:21:18.967914Z",
          "shell.execute_reply": "2024-07-16T14:21:18.995816Z"
        },
        "trusted": true,
        "id": "v5ZBd6LT-SyW"
      },
      "execution_count": null,
      "outputs": []
    },
    {
      "cell_type": "code",
      "source": [
        "df2=df.iloc[-1:,0:-1].T\n",
        "df2=df2.sort_values('2023',ascending=False)\n",
        "nations=df2.index.tolist()"
      ],
      "metadata": {
        "execution": {
          "iopub.status.busy": "2024-07-16T14:21:18.998571Z",
          "iopub.execute_input": "2024-07-16T14:21:18.999005Z",
          "iopub.status.idle": "2024-07-16T14:21:19.008409Z",
          "shell.execute_reply.started": "2024-07-16T14:21:18.998967Z",
          "shell.execute_reply": "2024-07-16T14:21:19.00753Z"
        },
        "trusted": true,
        "id": "h2TTkzeM-SyX"
      },
      "execution_count": null,
      "outputs": []
    },
    {
      "cell_type": "code",
      "source": [
        "#select 20 countries from 'nations'\n",
        "nations2=[\n",
        " 'United States',\n",
        " 'China',\n",
        " 'India',\n",
        " 'Russia',\n",
        " 'Japan',\n",
        " 'South Korea',\n",
        " 'Brazil',\n",
        " 'Canada',\n",
        " 'Germany',\n",
        " 'Mexico',\n",
        " 'Iran',\n",
        " 'Indonesia',\n",
        " 'Singapore',\n",
        " 'France',\n",
        " 'United Kingdom',\n",
        " 'Spain',\n",
        " 'Oceania',\n",
        " 'Italy',\n",
        " 'Thailand',\n",
        " 'Turkey',\n",
        "]"
      ],
      "metadata": {
        "execution": {
          "iopub.status.busy": "2024-07-16T14:21:19.009623Z",
          "iopub.execute_input": "2024-07-16T14:21:19.009944Z",
          "iopub.status.idle": "2024-07-16T14:21:19.019478Z",
          "shell.execute_reply.started": "2024-07-16T14:21:19.009916Z",
          "shell.execute_reply": "2024-07-16T14:21:19.018431Z"
        },
        "trusted": true,
        "id": "EdARqHMi-SyY"
      },
      "execution_count": null,
      "outputs": []
    },
    {
      "cell_type": "code",
      "source": [
        "plt.figure(figsize=(12,6))\n",
        "for column in nations2:\n",
        "    plt.plot(df.index, df[column].astype(float), label=column)\n",
        "plt.xlabel('Year')\n",
        "plt.ylabel('TWh')\n",
        "plt.title('Oil Consumption Top 20')\n",
        "plt.legend()\n",
        "plt.legend(bbox_to_anchor=(1.05, 1), loc='upper left', borderaxespad=0.)\n",
        "plt.xticks(rotation='vertical')\n",
        "plt.grid(True)\n",
        "plt.show()"
      ],
      "metadata": {
        "execution": {
          "iopub.status.busy": "2024-07-16T14:21:19.022774Z",
          "iopub.execute_input": "2024-07-16T14:21:19.023711Z",
          "iopub.status.idle": "2024-07-16T14:21:19.899905Z",
          "shell.execute_reply.started": "2024-07-16T14:21:19.023674Z",
          "shell.execute_reply": "2024-07-16T14:21:19.898814Z"
        },
        "trusted": true,
        "id": "9UoFBg6k-SyY"
      },
      "execution_count": null,
      "outputs": []
    },
    {
      "cell_type": "code",
      "source": [],
      "metadata": {
        "id": "gGGrWD0K-SyZ"
      },
      "execution_count": null,
      "outputs": []
    }
  ]
}